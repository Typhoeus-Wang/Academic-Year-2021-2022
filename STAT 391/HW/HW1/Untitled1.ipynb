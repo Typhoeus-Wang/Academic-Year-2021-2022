{
 "cells": [
  {
   "cell_type": "code",
   "execution_count": 1,
   "metadata": {},
   "outputs": [],
   "source": [
    "s1 = \"As far as the laws of mathematics refer to reality, they are not certain, as far as they are certain, they do not refer to reality.\"\n",
    "s2 = \"Chi trova un amico, trova un tesoro.\"\n",
    "s3 = \"Las cuentas, claras, y el chocolate, espeso\"\n",
    "s4 = \"Wir finden in den Buchern immer nur uns selbst. Komisch, dass dann allemal die Freude gross ist und wir den Autor zum Genie erklaren.\"\n",
    "s5 = \"Darkness cannot drive out darkness; only light can do that. Hate cannot drive out hate; only love can do that.\""
   ]
  },
  {
   "cell_type": "code",
   "execution_count": 3,
   "metadata": {},
   "outputs": [
    {
     "name": "stdout",
     "output_type": "stream",
     "text": [
      "asfarasthelawsofmathematicsrefertorealitytheyarenotcertainasfarastheyarecertaintheydonotrefertoreality\n"
     ]
    }
   ],
   "source": [
    "# Turn letters into lower case, and eliminate space and punctuation, \n",
    "S1 = \"\"\n",
    "S2 = \"\"\n",
    "S3 = \"\"\n",
    "S4 = \"\"\n",
    "S5 = \"\"\n",
    "letters = 'abcdefghijklmnopqrstuvwxyz'\n",
    "for i in s1.lower():\n",
    "    if i in letters:\n",
    "        S1+=i\n",
    "for i in s2.lower():\n",
    "    if i in letters:\n",
    "        S2+=i\n",
    "for i in s3.lower():\n",
    "    if i in letters:\n",
    "        S3+=i\n",
    "for i in s4.lower():\n",
    "    if i in letters:\n",
    "        S4+=i\n",
    "for i in s5.lower():\n",
    "    if i in letters:\n",
    "        S5+=i\n",
    "print(S1)"
   ]
  },
  {
   "cell_type": "code",
   "execution_count": 4,
   "metadata": {},
   "outputs": [
    {
     "name": "stdout",
     "output_type": "stream",
     "text": [
      "0\n",
      "1\n",
      "2\n",
      "3\n",
      "4\n",
      "5\n",
      "6\n",
      "7\n",
      "8\n",
      "9\n",
      "10\n",
      "11\n",
      "12\n",
      "13\n",
      "14\n",
      "15\n",
      "16\n",
      "17\n",
      "18\n",
      "19\n",
      "20\n",
      "21\n",
      "22\n",
      "23\n",
      "24\n",
      "25\n"
     ]
    }
   ],
   "source": [
    "for i in range(26):\n",
    "    print(i)"
   ]
  },
  {
   "cell_type": "code",
   "execution_count": null,
   "metadata": {},
   "outputs": [],
   "source": []
  }
 ],
 "metadata": {
  "kernelspec": {
   "display_name": "Python 3",
   "language": "python",
   "name": "python3"
  },
  "language_info": {
   "codemirror_mode": {
    "name": "ipython",
    "version": 3
   },
   "file_extension": ".py",
   "mimetype": "text/x-python",
   "name": "python",
   "nbconvert_exporter": "python",
   "pygments_lexer": "ipython3",
   "version": "3.8.5"
  }
 },
 "nbformat": 4,
 "nbformat_minor": 4
}
