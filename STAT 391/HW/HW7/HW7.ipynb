{
 "cells": [
  {
   "cell_type": "code",
   "execution_count": 1,
   "metadata": {},
   "outputs": [],
   "source": [
    "import numpy as np\n",
    "import math\n",
    "import matplotlib.pyplot as plt\n",
    "import scipy.integrate as integrate\n",
    "import scipy.stats as stats\n",
    "import random"
   ]
  },
  {
   "cell_type": "code",
   "execution_count": 2,
   "metadata": {},
   "outputs": [],
   "source": [
    "sample = np.loadtxt(\"hw7-cluster5-data1000.dat.txt\", unpack = True)"
   ]
  },
  {
   "cell_type": "code",
   "execution_count": 3,
   "metadata": {},
   "outputs": [],
   "source": [
    "# (a) Implement the K-logK Initialization algorithm as a generic function.\n",
    "# K logK initialization \n",
    "def K_logK_Initialization(data, K, c):\n",
    "    ### calculate the value of K' which equals K′ = c*K*lnK\n",
    "    num_init_centers = int(K*c*np.log(K))\n",
    "    \n",
    "    ### Run 1 step of K-means\n",
    "    # Assign each initial center a random points in data\n",
    "    mu_0_k_x = random.sample(list(data[0]), num_init_centers) # randomly assign x-values of K' points to initial centers(mu_0_k_x)\n",
    "    mu_0_k_y = []                                               # for-loop: get the corresponding y-values of these points\n",
    "    for i in mu_0_k_x:\n",
    "        mu_0_k_y.append(data[1][list(data[0]).index(i)])    \n",
    "    \n",
    "    # Assign points to clusters\n",
    "    k_xi = []                                                   # create an array store which cluster the data belongs to\n",
    "    for i in range(len(data[0])):                               # for-loop: for each data points\n",
    "        k_s = []    # k_s: stores the distances that one point to each center\n",
    "        for ki in range(len(mu_0_k_x)):                         # for-loop: calculate and store distances that one data to each centers\n",
    "            distance = np.sqrt((data[0][i]-mu_0_k_x[ki])**2 + (data[1][i]-mu_0_k_y[ki])**2)\n",
    "            k_s.append(distance)\n",
    "        k_min = k_s.index(min(k_s))+1                           # find the cluster center that the data is closest to\n",
    "        k_xi.append(k_min)                                      # add to the k_xi\n",
    "    \n",
    "    # recalculate centers\n",
    "    mu_new_k_x = [0] * len(mu_0_k_x)                            # create an array to store the new x-values of cluster centers\n",
    "    mu_new_k_y = [0] * len(mu_0_k_y)                            # create an array to store the new y-values of cluster centers\n",
    "    for i in range(len(k_xi)):                                  # for-loop: for each data point \n",
    "        for j in range(1, len(mu_0_k_x)+1):                     # for-loop: for each cluster center\n",
    "            if k_xi[i] == j:                                    # if the data point's cluster = cluster center\n",
    "                mu_new_k_x[j-1] = mu_new_k_x[j-1] + data[0][i]  # accumulate the corresponding cluster center's x-values\n",
    "                mu_new_k_y[j-1] = mu_new_k_y[j-1] + data[1][i]  # accumulate the corresponding cluster center's y-values\n",
    "    for i in range(len(mu_new_k_x)):                            # for-loop: for each cluster center\n",
    "        mu_new_k_x[i] = mu_new_k_x[i]/k_xi.count(i+1)           # average the sum of x-values to get new x-value\n",
    "        mu_new_k_y[i] = mu_new_k_y[i]/k_xi.count(i+1)           # average the sum of y-values to get new y-value\n",
    "    \n",
    "    \n",
    "    ### Remove all centers that have few data points:\n",
    "    mu_remain_k_x = []\n",
    "    mu_remain_k_y = []\n",
    "    threshold = len(data[0])/(np.e * num_init_centers)\n",
    "    for i in range(len(mu_new_k_x)):\n",
    "        count = k_xi.count(i+1)\n",
    "        if count >= threshold:\n",
    "            mu_remain_k_x.append(mu_new_k_x[i])\n",
    "            mu_remain_k_y.append(mu_new_k_y[i])\n",
    "    \n",
    "    ### From the remaining centers select K centers by Furthest First Traversal\n",
    "    mu_final_x = []\n",
    "    mu_final_y = []\n",
    "    temp = random.choice(mu_remain_k_x)\n",
    "    mu_final_x.append(temp)\n",
    "    mu_final_y.append(mu_remain_k_y[mu_remain_k_x.index(temp)])\n",
    "    mu_remain_k_x.remove(mu_final_x[0])\n",
    "    mu_remain_k_y.remove(mu_final_y[0])\n",
    "    for k in range(K-1):\n",
    "        dists = []\n",
    "        for i in range(len(mu_remain_k_x)):\n",
    "            for j in range(len(mu_final_x)):\n",
    "                temp_dists = []\n",
    "                temp_dists.append(np.sqrt((mu_remain_k_x[i]-mu_final_x[j])**2 + (mu_remain_k_y[i]-mu_final_y[j])**2))\n",
    "            dists.append(min(temp_dists))\n",
    "        furthest = max(dists)\n",
    "        ind = dists.index(furthest)\n",
    "        mu_final_x.append(mu_remain_k_x.pop(ind))\n",
    "        mu_final_y.append(mu_remain_k_y.pop(ind))\n",
    "    \n",
    "    result = []\n",
    "    result.append(mu_final_x)\n",
    "    result.append(mu_final_y)\n",
    "    return result\n",
    "\n",
    "# Naive Initialization\n",
    "def NiInitialization(data, K):\n",
    "    mu_x = random.sample(list(data[0]), 4)\n",
    "    mu_y = []\n",
    "    for i in mu_x:\n",
    "        mu_y.append(data[1][list(data[0]).index(i)])    \n",
    "    result = []\n",
    "    result.append(mu_x)\n",
    "    result.append(mu_y)\n",
    "    \n",
    "    return result\n",
    "\n",
    "# calculate the cost\n",
    "def cost(centers, data, k_xi):\n",
    "    result = 0\n",
    "    for i in range(len(k_xi)):\n",
    "        for j in range(len(centers[0])):\n",
    "            if k_xi[i] == j+1:\n",
    "                result += (data[0][i] - centers[0][j])**2 + (data[1][i] - centers[1][j])**2\n",
    "    return result\n",
    "\n",
    "\n",
    "### Implement the K-means algorithm proper.\n",
    "# K_means\n",
    "def K_means(data, centers, K, T):\n",
    "    \n",
    "    result = {\n",
    "        \"centers\": [centers],\n",
    "        \"cost\": []\n",
    "    }    \n",
    "    \n",
    "    for z in range(T):\n",
    "        \n",
    "        k_xi_o = []                                                   # create an array store which cluster the data belongs to\n",
    "        for i in range(len(data[0])):                               # for-loop: for each data points\n",
    "            k_s = []    # k_s: stores the distances that one point to each center\n",
    "            for ki in range(len(result.get(\"centers\")[z][0])):                         # for-loop: calculate and store distances that one data to each centers\n",
    "                distance = np.sqrt((data[0][i]-result.get(\"centers\")[z][0][ki])**2 \n",
    "                                   + (data[1][i]-result.get(\"centers\")[z][1][ki])**2)\n",
    "                k_s.append(distance)\n",
    "            k_min = k_s.index(min(k_s))+1                           # find the cluster center that the data is closest to\n",
    "            k_xi_o.append(k_min)\n",
    "        \n",
    "        # recalculate centers\n",
    "        new_centers = [[]] * 2\n",
    "        new_centers[0] = [0] * len(centers[0])                            # create an array to store the new x-values of cluster centers\n",
    "        new_centers[1] = [0] * len(centers[1])                            # create an array to store the new y-values of cluster centers\n",
    "        for i in range(len(k_xi_o)):                                  # for-loop: for each data point \n",
    "            for j in range(1, len(centers[0])+1):                     # for-loop: for each cluster center\n",
    "                if k_xi_o[i] == j:                                    # if the data point's cluster = cluster center\n",
    "                    new_centers[0][j-1] = new_centers[0][j-1] + data[0][i]  # accumulate the corresponding cluster center's x-values\n",
    "                    new_centers[1][j-1] = new_centers[1][j-1] + data[1][i]  # accumulate the corresponding cluster center's y-values\n",
    "        for i in range(len(new_centers[0])):                            # for-loop: for each cluster center\n",
    "            new_centers[0][i] = new_centers[0][i]/k_xi_o.count(i+1)           # average the sum of x-values to get new x-value\n",
    "            new_centers[1][i] = new_centers[1][i]/k_xi_o.count(i+1)           # average the sum of y-values to get new y-value\n",
    "        \n",
    "        result.get(\"centers\").append(new_centers)  \n",
    "\n",
    "        \n",
    "        k_xi = []                                                   # create an array store which cluster the data belongs to\n",
    "        for i in range(len(data[0])):                               # for-loop: for each data points\n",
    "            k_s = []    # k_s: stores the distances that one point to each center\n",
    "            for ki in range(len(new_centers[0])):                         # for-loop: calculate and store distances that one data to each centers\n",
    "                distance = np.sqrt((data[0][i]-new_centers[0][ki])**2 \n",
    "                                   + (data[1][i]-new_centers[1][ki])**2)\n",
    "                k_s.append(distance)\n",
    "            k_min = k_s.index(min(k_s))+1                           # find the cluster center that the data is closest to\n",
    "            k_xi.append(k_min)\n",
    "        \n",
    "        result.get(\"cost\").append(cost(new_centers, data, k_xi))\n",
    "        \n",
    "        if abs(result.get(\"cost\")[z] - cost(result.get(\"centers\")[z], data, k_xi_o)) < 0.0001:\n",
    "            break\n",
    "        \n",
    "    return result\n",
    "        \n",
    "        \n",
    "        \n",
    "        "
   ]
  },
  {
   "cell_type": "code",
   "execution_count": 4,
   "metadata": {
    "scrolled": true
   },
   "outputs": [],
   "source": [
    "# run K-means with K-logK initialization\n",
    "mu_0 = K_logK_Initialization(sample, 4, 2)\n",
    "result = K_means(sample, mu_0, 4, 100)"
   ]
  },
  {
   "cell_type": "code",
   "execution_count": 5,
   "metadata": {},
   "outputs": [
    {
     "name": "stdout",
     "output_type": "stream",
     "text": [
      "number of iterations: 9\n"
     ]
    },
    {
     "data": {
      "text/plain": [
       "[<matplotlib.lines.Line2D at 0x7f78deeaa2e0>]"
      ]
     },
     "execution_count": 5,
     "metadata": {},
     "output_type": "execute_result"
    },
    {
     "data": {
      "image/png": "[encoded data removed]",
      "text/plain": [
       "<Figure size 432x288 with 1 Axes>"
      ]
     },
     "metadata": {
      "needs_background": "light"
     },
     "output_type": "display_data"
    }
   ],
   "source": [
    "# plot\n",
    "print(\"number of iterations: \" + str(len(result.get(\"centers\"))))\n",
    "plt.scatter(sample[0], sample[1], color=\"b\")\n",
    "plt.scatter(result.get(\"centers\")[len(result.get(\"centers\"))-1][0], \n",
    "            result.get(\"centers\")[len(result.get(\"centers\"))-1][1], color = \"r\")\n",
    "plt.scatter(mu_0[0], \n",
    "            mu_0[1], color = \"y\")\n",
    "mu1_x = []\n",
    "mu2_x = []\n",
    "mu3_x = []\n",
    "mu4_x = []\n",
    "mu1_y = []\n",
    "mu2_y = []\n",
    "mu3_y = []\n",
    "mu4_y = []\n",
    "for i in range(len(result.get(\"centers\"))):\n",
    "    mu1_x.append(result.get(\"centers\")[i][0][0])\n",
    "    mu2_x.append(result.get(\"centers\")[i][0][1])\n",
    "    mu3_x.append(result.get(\"centers\")[i][0][2])\n",
    "    mu4_x.append(result.get(\"centers\")[i][0][3])\n",
    "    mu1_y.append(result.get(\"centers\")[i][1][0])\n",
    "    mu2_y.append(result.get(\"centers\")[i][1][1])\n",
    "    mu3_y.append(result.get(\"centers\")[i][1][2])\n",
    "    mu4_y.append(result.get(\"centers\")[i][1][3])\n",
    "plt.plot(mu1_x, mu1_y)\n",
    "plt.plot(mu2_x, mu2_y)\n",
    "plt.plot(mu3_x, mu3_y)\n",
    "plt.plot(mu4_x, mu4_y)"
   ]
  },
  {
   "cell_type": "code",
   "execution_count": 21,
   "metadata": {},
   "outputs": [
    {
     "data": {
      "text/plain": [
       "[<matplotlib.lines.Line2D at 0x7f78df77f3a0>]"
      ]
     },
     "execution_count": 21,
     "metadata": {},
     "output_type": "execute_result"
    },
    {
     "data": {
      "image/png": "[encoded data removed]",
      "text/plain": [
       "<Figure size 432x288 with 1 Axes>"
      ]
     },
     "metadata": {
      "needs_background": "light"
     },
     "output_type": "display_data"
    }
   ],
   "source": [
    "# plot the cost\n",
    "x_l = np.array(range(1, len(result.get(\"cost\"))+1))\n",
    "y_l = result.get(\"cost\")\n",
    "plt.plot(x_l, y_l)"
   ]
  },
  {
   "cell_type": "code",
   "execution_count": 19,
   "metadata": {},
   "outputs": [],
   "source": [
    "# Run K-means with Naive Initialization\n",
    "mu_0_n = NiInitialization(sample, 4)\n",
    "result_n = K_means(sample, mu_0_n, 4, 100)"
   ]
  },
  {
   "cell_type": "code",
   "execution_count": 20,
   "metadata": {},
   "outputs": [
    {
     "name": "stdout",
     "output_type": "stream",
     "text": [
      "14\n"
     ]
    },
    {
     "data": {
      "text/plain": [
       "[<matplotlib.lines.Line2D at 0x7f78df69f5b0>]"
      ]
     },
     "execution_count": 20,
     "metadata": {},
     "output_type": "execute_result"
    },
    {
     "data": {
      "image/png": "[encoded data removed]",
      "text/plain": [
       "<Figure size 432x288 with 1 Axes>"
      ]
     },
     "metadata": {
      "needs_background": "light"
     },
     "output_type": "display_data"
    }
   ],
   "source": [
    "# plot\n",
    "print(len(result_n.get(\"centers\")))\n",
    "plt.scatter(sample[0], sample[1], color=\"b\")\n",
    "plt.scatter(result_n.get(\"centers\")[len(result_n.get(\"centers\"))-1][0], \n",
    "            result_n.get(\"centers\")[len(result_n.get(\"centers\"))-1][1], color = \"r\")\n",
    "plt.scatter(mu_0_n[0], \n",
    "            mu_0_n[1], color = \"y\")\n",
    "mu1_x = []\n",
    "mu2_x = []\n",
    "mu3_x = []\n",
    "mu4_x = []\n",
    "mu1_y = []\n",
    "mu2_y = []\n",
    "mu3_y = []\n",
    "mu4_y = []\n",
    "for i in range(len(result_n.get(\"centers\"))):\n",
    "    mu1_x.append(result_n.get(\"centers\")[i][0][0])\n",
    "    mu2_x.append(result_n.get(\"centers\")[i][0][1])\n",
    "    mu3_x.append(result_n.get(\"centers\")[i][0][2])\n",
    "    mu4_x.append(result_n.get(\"centers\")[i][0][3])\n",
    "    mu1_y.append(result_n.get(\"centers\")[i][1][0])\n",
    "    mu2_y.append(result_n.get(\"centers\")[i][1][1])\n",
    "    mu3_y.append(result_n.get(\"centers\")[i][1][2])\n",
    "    mu4_y.append(result_n.get(\"centers\")[i][1][3])\n",
    "plt.plot(mu1_x, mu1_y)\n",
    "plt.plot(mu2_x, mu2_y)\n",
    "plt.plot(mu3_x, mu3_y)\n",
    "plt.plot(mu4_x, mu4_y)\n",
    "# 1, len(result_n.get(\"centers\"))-1"
   ]
  },
  {
   "cell_type": "code",
   "execution_count": 22,
   "metadata": {},
   "outputs": [
    {
     "data": {
      "text/plain": [
       "[<matplotlib.lines.Line2D at 0x7f78df7d0b20>]"
      ]
     },
     "execution_count": 22,
     "metadata": {},
     "output_type": "execute_result"
    },
    {
     "data": {
      "image/png": "[encoded data removed]",
      "text/plain": [
       "<Figure size 432x288 with 1 Axes>"
      ]
     },
     "metadata": {
      "needs_background": "light"
     },
     "output_type": "display_data"
    }
   ],
   "source": [
    "# Plot on a graph the cost versus the iteration t = 1 : T for the two initialization methods.\n",
    "x_n = np.array(range(1, len(result_n.get(\"cost\"))+1))\n",
    "y_n = result_n.get(\"cost\")\n",
    "plt.plot(x_n, y_n)"
   ]
  },
  {
   "cell_type": "code",
   "execution_count": 3,
   "metadata": {},
   "outputs": [
    {
     "data": {
      "text/plain": [
       "1.0"
      ]
     },
     "execution_count": 3,
     "metadata": {},
     "output_type": "execute_result"
    }
   ],
   "source": [
    "np.log(np.e)"
   ]
  },
  {
   "cell_type": "code",
   "execution_count": null,
   "metadata": {},
   "outputs": [],
   "source": []
  }
 ],
 "metadata": {
  "kernelspec": {
   "display_name": "Python 3",
   "language": "python",
   "name": "python3"
  },
  "language_info": {
   "codemirror_mode": {
    "name": "ipython",
    "version": 3
   },
   "file_extension": ".py",
   "mimetype": "text/x-python",
   "name": "python",
   "nbconvert_exporter": "python",
   "pygments_lexer": "ipython3",
   "version": "3.8.5"
  }
 },
 "nbformat": 4,
 "nbformat_minor": 4
}
