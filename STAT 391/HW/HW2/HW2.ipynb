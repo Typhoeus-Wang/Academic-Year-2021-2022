{
 "cells": [
  {
   "cell_type": "code",
   "execution_count": 1,
   "metadata": {},
   "outputs": [],
   "source": [
    "import numpy as np\n",
    "import math\n",
    "import matplotlib.pyplot as plt"
   ]
  },
  {
   "cell_type": "code",
   "execution_count": 2,
   "metadata": {},
   "outputs": [],
   "source": [
    "theta1 = 0.3141\n",
    "theta0 = 1 - theta1\n",
    "n = 100"
   ]
  },
  {
   "cell_type": "code",
   "execution_count": 4,
   "metadata": {},
   "outputs": [
    {
     "name": "stdout",
     "output_type": "stream",
     "text": [
      "[0.0, 0.01, 0.02, 0.03, 0.04, 0.05, 0.06, 0.07, 0.08, 0.09, 0.1, 0.11, 0.12, 0.13, 0.14, 0.15, 0.16, 0.17, 0.18, 0.19, 0.2, 0.21, 0.22, 0.23, 0.24, 0.25, 0.26, 0.27, 0.28, 0.29, 0.3, 0.31, 0.32, 0.33, 0.34, 0.35, 0.36, 0.37, 0.38, 0.39, 0.4, 0.41, 0.42, 0.43, 0.44, 0.45, 0.46, 0.47, 0.48, 0.49, 0.5, 0.51, 0.52, 0.53, 0.54, 0.55, 0.56, 0.57, 0.58, 0.59, 0.6, 0.61, 0.62, 0.63, 0.64, 0.65, 0.66, 0.67, 0.68, 0.69, 0.7, 0.71, 0.72, 0.73, 0.74, 0.75, 0.76, 0.77, 0.78, 0.79, 0.8, 0.81, 0.82, 0.83, 0.84, 0.85, 0.86, 0.87, 0.88, 0.89, 0.9, 0.91, 0.92, 0.93, 0.94, 0.95, 0.96, 0.97, 0.98, 0.99, 1.0]\n",
      "False\n"
     ]
    }
   ],
   "source": [
    "# (5.1) Get the set of possible values of S-theta1\n",
    "values = []\n",
    "for i in range(n+1):\n",
    "    values.append(i/100)\n",
    "print(values)\n",
    "# \n",
    "if theta1 in values:\n",
    "    print(True)\n",
    "else:\n",
    "    print(False)"
   ]
  },
  {
   "cell_type": "code",
   "execution_count": 3,
   "metadata": {},
   "outputs": [
    {
     "name": "stdout",
     "output_type": "stream",
     "text": [
      "[4.227467581210961e-17, 1.935920057236277e-15, 4.3883347796919064e-14, 6.564651966832887e-13, 7.290051273140194e-12, 6.409718328320751e-11, 4.64748967434337e-10, 2.857954962840434e-09, 1.5214422621012676e-08, 7.122097703972519e-08, 2.967949130812318e-07, 1.112022080861687e-06, 3.7768462443845526e-06, 1.1707812494732867e-05, 3.3317630610440575e-05, 8.747590305949234e-05, 0.00021281121499433742, 0.00048153960197392834, 0.0010168215228443492, 0.002009611536642876, 0.0037271276918225487, 0.006502076843085346, 0.01069211550694081, 0.016604948845182682, 0.024396310886240398, 0.03396290858445699, 0.04486419970271208, 0.05630863690150373, 0.06722750234861649, 0.07643435562208382, 0.08283861632714458, 0.0856596540069759, 0.08458289816881961, 0.07981502760841472, 0.07202573310767327, 0.06219718254480793, 0.05142670527879311, 0.040735596954737344, 0.030927026849833453, 0.022515022608477223, 0.01572350505469764, 0.010537167697091296, 0.006778502282219615, 0.004186975485511159, 0.002483874968519999, 0.0014155081610950537, 0.0007750404494570003, 0.0004077813923442709, 0.00020619074612348684, 0.00010020365599150634, 4.680485160208599e-05, 2.1013472906950948e-05, 9.067711714075593e-06, 3.7607131236682536e-06, 1.4989302951725316e-06, 5.740949320157946e-07, 2.1125905527089663e-07, 7.467930846310008e-08, 2.5354081571536228e-08, 8.265179608333978e-09, 2.586378226031147e-09, 7.76657115142611e-10, 2.2372235195541227e-10, 6.179588510679768e-11, 1.6360193676776653e-11, 4.1493944176549545e-12, 1.0076645047314468e-12, 2.3416781767998493e-13, 5.2040249406069045e-14, 1.1052165774583298e-14, 2.2413938592401025e-15, 4.33698796802792e-16, 7.999463337295993e-17, 1.4050868104270722e-17, 2.347698567908188e-18, 3.7270185400552087e-19, 5.614293376697448e-20, 8.013509445528209e-21, 1.0820893433544071e-21, 1.3799579191799417e-22, 1.6588315408045656e-23, 1.875661200177523e-24, 1.9902208735077362e-25, 1.976527326621788e-26, 1.831806484001271e-27, 1.5790205511001922e-28, 1.2612109241140575e-29, 9.294020806121257e-31, 6.287405260115265e-32, 3.882127788541006e-33, 2.1728369412755395e-34, 1.0934347640697422e-35, 4.898405038363994e-37, 1.9296069962863399e-38, 6.580307443140053e-40, 1.9031848140118236e-41, 4.539278913358314e-43, 8.572001909964613e-45, 1.2016682088719507e-46, 1.111697185903884e-48, 5.0908891397056426e-51]\n"
     ]
    }
   ],
   "source": [
    "# (5.2) Write the expression of the probability of each outcome in S-theta1\n",
    "# \n",
    "probabilities = []\n",
    "for i in range(n+1):\n",
    "    temp = pow(theta1, i) * pow(theta0, n-i) * (math.factorial(100)/(math.factorial(i)*math.factorial(100-i)))\n",
    "    probabilities.append(temp)\n",
    "print(probabilities)"
   ]
  },
  {
   "cell_type": "code",
   "execution_count": 6,
   "metadata": {},
   "outputs": [
    {
     "data": {
      "text/plain": [
       "<StemContainer object of 3 artists>"
      ]
     },
     "execution_count": 6,
     "metadata": {},
     "output_type": "execute_result"
    },
    {
     "data": {
      "image/png": "[encoded data removed]",
      "text/plain": [
       "<Figure size 432x288 with 1 Axes>"
      ]
     },
     "metadata": {
      "needs_background": "light"
     },
     "output_type": "display_data"
    }
   ],
   "source": [
    "# (5.3) \n",
    "x = np.zeros(101)\n",
    "for i in range(101):\n",
    "    x[i] = i/100\n",
    "y = np.zeros(101)\n",
    "for i in range(101):\n",
    "    y[i] = math.log(1+probabilities[i])\n",
    "\n",
    "plt.stem(x, y, use_line_collection=True)"
   ]
  },
  {
   "cell_type": "code",
   "execution_count": 34,
   "metadata": {},
   "outputs": [
    {
     "name": "stdout",
     "output_type": "stream",
     "text": [
      "0.6671038038886401\n",
      "0.8297574478241994\n"
     ]
    }
   ],
   "source": [
    "# (5.4)\n",
    "errorAbs = 0\n",
    "errorRel = 0\n",
    "for i in range(n+1):\n",
    "    if abs(values[i] - theta1) > 0.02:\n",
    "        errorAbs += probabilities[i]\n",
    "    if (abs(values[i] - theta1)/theta1) > 0.02:\n",
    "        errorRel += probabilities[i]\n",
    "print(errorAbs)\n",
    "print(errorRel)"
   ]
  }
 ],
 "metadata": {
  "kernelspec": {
   "display_name": "Python 3",
   "language": "python",
   "name": "python3"
  },
  "language_info": {
   "codemirror_mode": {
    "name": "ipython",
    "version": 3
   },
   "file_extension": ".py",
   "mimetype": "text/x-python",
   "name": "python",
   "nbconvert_exporter": "python",
   "pygments_lexer": "ipython3",
   "version": "3.8.5"
  }
 },
 "nbformat": 4,
 "nbformat_minor": 4
}
